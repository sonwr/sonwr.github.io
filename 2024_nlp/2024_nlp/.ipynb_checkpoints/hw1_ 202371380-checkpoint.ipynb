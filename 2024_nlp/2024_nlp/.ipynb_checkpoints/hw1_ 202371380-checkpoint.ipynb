{
 "cells": [
  {
   "cell_type": "code",
   "execution_count": 1,
   "id": "fcc0b18f-2d08-4150-bb87-ce728d1d8442",
   "metadata": {},
   "outputs": [
    {
     "name": "stdout",
     "output_type": "stream",
     "text": [
      "강의계획서의 내용과강의진행 방법을 100% 이해했으며, 그에 따른 평가결과에 대해 어떤 이의도 제기하지 않겠음\n"
     ]
    }
   ],
   "source": [
    "print(\"강의계획서의 내용과강의진행 방법을 100% 이해했으며, 그에 따른 평가결과에 대해 어떤 이의도 제기하지 않겠음\")"
   ]
  },
  {
   "cell_type": "code",
   "execution_count": null,
   "id": "07d12877-a2c4-4d69-83f2-11d6b8d8a19e",
   "metadata": {},
   "outputs": [],
   "source": []
  }
 ],
 "metadata": {
  "kernelspec": {
   "display_name": "Python 3 (ipykernel)",
   "language": "python",
   "name": "python3"
  },
  "language_info": {
   "codemirror_mode": {
    "name": "ipython",
    "version": 3
   },
   "file_extension": ".py",
   "mimetype": "text/x-python",
   "name": "python",
   "nbconvert_exporter": "python",
   "pygments_lexer": "ipython3",
   "version": "3.9.5"
  }
 },
 "nbformat": 4,
 "nbformat_minor": 5
}
